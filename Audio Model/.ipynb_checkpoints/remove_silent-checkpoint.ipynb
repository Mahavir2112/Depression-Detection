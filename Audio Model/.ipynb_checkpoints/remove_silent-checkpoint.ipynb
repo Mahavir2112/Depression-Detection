{
 "cells": [
  {
   "cell_type": "markdown",
   "metadata": {
    "id": "3faZ8RgzKT5y"
   },
   "source": [
    "## Removing silent segments from recording"
   ]
  },
  {
   "cell_type": "code",
   "execution_count": null,
   "metadata": {
    "colab": {
     "base_uri": "https://localhost:8080/"
    },
    "id": "yDiKmG3_Kv1G",
    "outputId": "8aedb029-e1be-453f-8476-6ca5acb2616a"
   },
   "outputs": [
    {
     "name": "stdout",
     "output_type": "stream",
     "text": [
      "Collecting pydub\n",
      "  Downloading pydub-0.25.1-py2.py3-none-any.whl.metadata (1.4 kB)\n",
      "Downloading pydub-0.25.1-py2.py3-none-any.whl (32 kB)\n",
      "Installing collected packages: pydub\n",
      "Successfully installed pydub-0.25.1\n"
     ]
    }
   ],
   "source": [
    "!pip install pydub"
   ]
  },
  {
   "cell_type": "code",
   "execution_count": null,
   "metadata": {
    "id": "8M_vd8_dKT50"
   },
   "outputs": [],
   "source": [
    "# imports\n",
    "import IPython\n",
    "from pydub import AudioSegment\n",
    "import numpy as np\n",
    "from scipy.io import wavfile\n",
    "from plotly.offline import init_notebook_mode\n",
    "import plotly.graph_objs as go\n",
    "import plotly\n",
    "import os"
   ]
  },
  {
   "cell_type": "markdown",
   "metadata": {
    "id": "ynTEpJ6BKT51"
   },
   "source": [
    "#### Normalization"
   ]
  },
  {
   "cell_type": "code",
   "execution_count": null,
   "metadata": {
    "colab": {
     "base_uri": "https://localhost:8080/",
     "height": 122
    },
    "id": "QgoZHzyOKT51",
    "outputId": "a04286b8-5cf9-4fbd-a9cd-a2a1fede61cb"
   },
   "outputs": [
    {
     "name": "stderr",
     "output_type": "stream",
     "text": [
      "<ipython-input-3-1b06f052fa22>:1: WavFileWarning:\n",
      "\n",
      "Reached EOF prematurely; finished at 26364844 bytes, expected 210918444 bytes from header.\n",
      "\n"
     ]
    },
    {
     "data": {
      "application/vnd.google.colaboratory.intrinsic+json": {
       "type": "string"
      },
      "text/plain": [
       "' time_wav = np.arange(0, len(data_wav)) / fs_wav\\nplotly.offline.iplot({ \"data\": [go.Scatter(x=time_wav,\\n                                           y=data_wav_norm,\\n                                           name=\\'normalized audio signal\\')]}) '"
      ]
     },
     "execution_count": 3,
     "metadata": {},
     "output_type": "execute_result"
    }
   ],
   "source": [
    "fs, signal = wavfile.read(\"301_AUDIO.wav\")\n",
    "signal = signal / (2**15)\n",
    "\n",
    "# To visualize normalized audio, uncomment the code below\n",
    "\"\"\" time_wav = np.arange(0, len(data_wav)) / fs_wav\n",
    "plotly.offline.iplot({ \"data\": [go.Scatter(x=time_wav,\n",
    "                                           y=data_wav_norm,\n",
    "                                           name='normalized audio signal')]}) \"\"\""
   ]
  },
  {
   "cell_type": "markdown",
   "metadata": {
    "id": "_HkKd8kVKT52"
   },
   "source": [
    "#### Segmentation"
   ]
  },
  {
   "cell_type": "code",
   "execution_count": null,
   "metadata": {
    "id": "0xWSgv_4KT53"
   },
   "outputs": [],
   "source": [
    "signal_len = len(signal)\n",
    "segment_size_t = 1 # segment size in seconds\n",
    "segment_size = segment_size_t * fs  # segment size in samples\n",
    "# Break signal into list of segments in a single-line Python code\n",
    "segments = np.array([signal[x:x + segment_size] for x in np.arange(0, signal_len, segment_size)], dtype=object)\n",
    "\n",
    "# Create new folder to save segments\n",
    "try:\n",
    "    os.mkdir(\"301_AUDIO_segments\")\n",
    "except:\n",
    "    print(\"File alr exist\")\n",
    "# Save each segment in a seperate filename\n",
    "for iS, s in enumerate(segments):\n",
    "    wavfile.write(\"301_AUDIO_segments/301_Audio_segment_{0:d}_{1:d}.wav\".format(segment_size_t * iS,\n",
    "                                                              segment_size_t * (iS + 1)), fs, (s))"
   ]
  },
  {
   "cell_type": "markdown",
   "metadata": {
    "id": "j-Ul7xQLKT53"
   },
   "source": [
    "Remove silent segments"
   ]
  },
  {
   "cell_type": "code",
   "execution_count": null,
   "metadata": {
    "colab": {
     "base_uri": "https://localhost:8080/",
     "height": 70
    },
    "id": "RUanw80aKT54",
    "outputId": "2e0e4502-28f9-402c-c3b0-de07a5de18a8"
   },
   "outputs": [
    {
     "data": {
      "application/vnd.google.colaboratory.intrinsic+json": {
       "type": "string"
      },
      "text/plain": [
       "' plotly.offline.iplot({ \"data\": [go.Scatter(y=energies, name=\"energy\"),\\n                                go.Scatter(y=np.ones(len(energies)) * thres,\\n                                           name=\"thres\")]})\\n# play the initial and the generated files in notebook:\\nIPython.display.display(IPython.display.Audio(\"300_AUDIO.wav\"))\\nIPython.display.display(IPython.display.Audio(\"300_AUDIO_p.wav\")) '"
      ]
     },
     "execution_count": 5,
     "metadata": {},
     "output_type": "execute_result"
    }
   ],
   "source": [
    "# Remove pauses using an energy threshold = 50% of the median energy:\n",
    "energies = [(s**2).sum() / len(s) for s in segments]\n",
    "# (attention: integer overflow would occure without normalization here!)\n",
    "thres = 0.5 * np.median(energies)\n",
    "index_of_segments_to_keep = (np.where(energies > thres)[0])\n",
    "# get segments that have energies higher than a the threshold:\n",
    "segments2 = segments[index_of_segments_to_keep]\n",
    "# concatenate segments to signal:\n",
    "new_signal = np.concatenate(segments2)\n",
    "# and write to file:\n",
    "wavfile.write(\"301_AUDIO_p.wav\", fs, new_signal)\n",
    "\n",
    "# For visualization, uncomment the code below\n",
    "\"\"\" plotly.offline.iplot({ \"data\": [go.Scatter(y=energies, name=\"energy\"),\n",
    "                                go.Scatter(y=np.ones(len(energies)) * thres,\n",
    "                                           name=\"thres\")]})\n",
    "# play the initial and the generated files in notebook:\n",
    "IPython.display.display(IPython.display.Audio(\"300_AUDIO.wav\"))\n",
    "IPython.display.display(IPython.display.Audio(\"300_AUDIO_p.wav\")) \"\"\""
   ]
  },
  {
   "cell_type": "markdown",
   "metadata": {
    "id": "d8Vi_ES0KT54"
   },
   "source": [
    "## Function combining all of the above"
   ]
  },
  {
   "cell_type": "markdown",
   "metadata": {
    "id": "iDpHIPTRKT54"
   },
   "source": [
    "#### Looping through all participants"
   ]
  },
  {
   "cell_type": "code",
   "execution_count": null,
   "metadata": {
    "id": "qHR3KsbyKT55"
   },
   "outputs": [],
   "source": []
  }
 ],
 "metadata": {
  "colab": {
   "provenance": []
  },
  "kernelspec": {
   "display_name": "Python 3 (ipykernel)",
   "language": "python",
   "name": "python3"
  },
  "language_info": {
   "codemirror_mode": {
    "name": "ipython",
    "version": 3
   },
   "file_extension": ".py",
   "mimetype": "text/x-python",
   "name": "python",
   "nbconvert_exporter": "python",
   "pygments_lexer": "ipython3",
   "version": "3.11.5"
  }
 },
 "nbformat": 4,
 "nbformat_minor": 1
}
