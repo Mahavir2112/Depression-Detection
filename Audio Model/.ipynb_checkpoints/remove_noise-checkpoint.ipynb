{
 "cells": [
  {
   "cell_type": "markdown",
   "metadata": {
    "id": "o7yeqpptDp51"
   },
   "source": [
    "## Noise Reduction"
   ]
  },
  {
   "cell_type": "markdown",
   "metadata": {
    "id": "JCUtwUT-Dp55"
   },
   "source": [
    "#### Packages"
   ]
  },
  {
   "cell_type": "code",
   "execution_count": 1,
   "metadata": {
    "colab": {
     "base_uri": "https://localhost:8080/"
    },
    "id": "2dXVJLuVDx-3",
    "outputId": "5cbaf2ae-1677-4382-a846-efe16ee55593"
   },
   "outputs": [
    {
     "name": "stdout",
     "output_type": "stream",
     "text": [
      "Requirement already satisfied: ipython in c:\\users\\lenovo\\anaconda3\\lib\\site-packages (8.15.0)\n",
      "Collecting pydub\n",
      "  Obtaining dependency information for pydub from https://files.pythonhosted.org/packages/a6/53/d78dc063216e62fc55f6b2eebb447f6a4b0a59f55c8406376f76bf959b08/pydub-0.25.1-py2.py3-none-any.whl.metadata\n",
      "  Downloading pydub-0.25.1-py2.py3-none-any.whl.metadata (1.4 kB)\n",
      "Requirement already satisfied: numpy in c:\\users\\lenovo\\anaconda3\\lib\\site-packages (1.24.3)\n",
      "Requirement already satisfied: scipy in c:\\users\\lenovo\\anaconda3\\lib\\site-packages (1.11.1)\n",
      "Requirement already satisfied: plotly in c:\\users\\lenovo\\anaconda3\\lib\\site-packages (5.9.0)\n",
      "Requirement already satisfied: matplotlib in c:\\users\\lenovo\\anaconda3\\lib\\site-packages (3.7.2)\n",
      "Collecting librosa\n",
      "  Obtaining dependency information for librosa from https://files.pythonhosted.org/packages/b5/ba/c63c5786dfee4c3417094c4b00966e61e4a63efecee22cb7b4c0387dda83/librosa-0.11.0-py3-none-any.whl.metadata\n",
      "  Downloading librosa-0.11.0-py3-none-any.whl.metadata (8.7 kB)\n",
      "Requirement already satisfied: backcall in c:\\users\\lenovo\\anaconda3\\lib\\site-packages (from ipython) (0.2.0)\n",
      "Requirement already satisfied: decorator in c:\\users\\lenovo\\anaconda3\\lib\\site-packages (from ipython) (5.1.1)\n",
      "Requirement already satisfied: jedi>=0.16 in c:\\users\\lenovo\\anaconda3\\lib\\site-packages (from ipython) (0.18.1)\n",
      "Requirement already satisfied: matplotlib-inline in c:\\users\\lenovo\\anaconda3\\lib\\site-packages (from ipython) (0.1.6)\n",
      "Requirement already satisfied: pickleshare in c:\\users\\lenovo\\anaconda3\\lib\\site-packages (from ipython) (0.7.5)\n",
      "Requirement already satisfied: prompt-toolkit!=3.0.37,<3.1.0,>=3.0.30 in c:\\users\\lenovo\\anaconda3\\lib\\site-packages (from ipython) (3.0.36)\n",
      "Requirement already satisfied: pygments>=2.4.0 in c:\\users\\lenovo\\anaconda3\\lib\\site-packages (from ipython) (2.15.1)\n",
      "Requirement already satisfied: stack-data in c:\\users\\lenovo\\anaconda3\\lib\\site-packages (from ipython) (0.2.0)\n",
      "Requirement already satisfied: traitlets>=5 in c:\\users\\lenovo\\anaconda3\\lib\\site-packages (from ipython) (5.7.1)\n",
      "Requirement already satisfied: colorama in c:\\users\\lenovo\\anaconda3\\lib\\site-packages (from ipython) (0.4.6)\n",
      "Requirement already satisfied: tenacity>=6.2.0 in c:\\users\\lenovo\\anaconda3\\lib\\site-packages (from plotly) (8.2.2)\n",
      "Requirement already satisfied: contourpy>=1.0.1 in c:\\users\\lenovo\\anaconda3\\lib\\site-packages (from matplotlib) (1.0.5)\n",
      "Requirement already satisfied: cycler>=0.10 in c:\\users\\lenovo\\anaconda3\\lib\\site-packages (from matplotlib) (0.11.0)\n",
      "Requirement already satisfied: fonttools>=4.22.0 in c:\\users\\lenovo\\anaconda3\\lib\\site-packages (from matplotlib) (4.25.0)\n",
      "Requirement already satisfied: kiwisolver>=1.0.1 in c:\\users\\lenovo\\anaconda3\\lib\\site-packages (from matplotlib) (1.4.4)\n",
      "Requirement already satisfied: packaging>=20.0 in c:\\users\\lenovo\\anaconda3\\lib\\site-packages (from matplotlib) (23.1)\n",
      "Requirement already satisfied: pillow>=6.2.0 in c:\\users\\lenovo\\anaconda3\\lib\\site-packages (from matplotlib) (9.4.0)\n",
      "Requirement already satisfied: pyparsing<3.1,>=2.3.1 in c:\\users\\lenovo\\anaconda3\\lib\\site-packages (from matplotlib) (3.0.9)\n",
      "Requirement already satisfied: python-dateutil>=2.7 in c:\\users\\lenovo\\anaconda3\\lib\\site-packages (from matplotlib) (2.8.2)\n",
      "Collecting audioread>=2.1.9 (from librosa)\n",
      "  Obtaining dependency information for audioread>=2.1.9 from https://files.pythonhosted.org/packages/57/8d/30aa32745af16af0a9a650115fbe81bde7c610ed5c21b381fca0196f3a7f/audioread-3.0.1-py3-none-any.whl.metadata\n",
      "  Downloading audioread-3.0.1-py3-none-any.whl.metadata (8.4 kB)\n",
      "Requirement already satisfied: numba>=0.51.0 in c:\\users\\lenovo\\anaconda3\\lib\\site-packages (from librosa) (0.57.1)\n",
      "Requirement already satisfied: scikit-learn>=1.1.0 in c:\\users\\lenovo\\anaconda3\\lib\\site-packages (from librosa) (1.3.0)\n",
      "Requirement already satisfied: joblib>=1.0 in c:\\users\\lenovo\\anaconda3\\lib\\site-packages (from librosa) (1.2.0)\n",
      "Collecting soundfile>=0.12.1 (from librosa)\n",
      "  Obtaining dependency information for soundfile>=0.12.1 from https://files.pythonhosted.org/packages/14/e9/6b761de83277f2f02ded7e7ea6f07828ec78e4b229b80e4ca55dd205b9dc/soundfile-0.13.1-py2.py3-none-win_amd64.whl.metadata\n",
      "  Downloading soundfile-0.13.1-py2.py3-none-win_amd64.whl.metadata (16 kB)\n",
      "Collecting pooch>=1.1 (from librosa)\n",
      "  Obtaining dependency information for pooch>=1.1 from https://files.pythonhosted.org/packages/a8/87/77cc11c7a9ea9fd05503def69e3d18605852cd0d4b0d3b8f15bbeb3ef1d1/pooch-1.8.2-py3-none-any.whl.metadata\n",
      "  Downloading pooch-1.8.2-py3-none-any.whl.metadata (10 kB)\n",
      "Collecting soxr>=0.3.2 (from librosa)\n",
      "  Obtaining dependency information for soxr>=0.3.2 from https://files.pythonhosted.org/packages/86/94/6a7e91bea7e6ca193ee429869b8f18548cd79759e064021ecb5756024c7c/soxr-0.5.0.post1-cp311-cp311-win_amd64.whl.metadata\n",
      "  Downloading soxr-0.5.0.post1-cp311-cp311-win_amd64.whl.metadata (5.6 kB)\n",
      "Requirement already satisfied: typing_extensions>=4.1.1 in c:\\users\\lenovo\\anaconda3\\lib\\site-packages (from librosa) (4.12.2)\n",
      "Requirement already satisfied: lazy_loader>=0.1 in c:\\users\\lenovo\\anaconda3\\lib\\site-packages (from librosa) (0.2)\n",
      "Requirement already satisfied: msgpack>=1.0 in c:\\users\\lenovo\\anaconda3\\lib\\site-packages (from librosa) (1.0.3)\n",
      "Requirement already satisfied: parso<0.9.0,>=0.8.0 in c:\\users\\lenovo\\anaconda3\\lib\\site-packages (from jedi>=0.16->ipython) (0.8.3)\n",
      "Requirement already satisfied: llvmlite<0.41,>=0.40.0dev0 in c:\\users\\lenovo\\anaconda3\\lib\\site-packages (from numba>=0.51.0->librosa) (0.40.0)\n",
      "Requirement already satisfied: platformdirs>=2.5.0 in c:\\users\\lenovo\\anaconda3\\lib\\site-packages (from pooch>=1.1->librosa) (3.10.0)\n",
      "Requirement already satisfied: requests>=2.19.0 in c:\\users\\lenovo\\anaconda3\\lib\\site-packages (from pooch>=1.1->librosa) (2.31.0)\n",
      "Requirement already satisfied: wcwidth in c:\\users\\lenovo\\anaconda3\\lib\\site-packages (from prompt-toolkit!=3.0.37,<3.1.0,>=3.0.30->ipython) (0.2.5)\n",
      "Requirement already satisfied: six>=1.5 in c:\\users\\lenovo\\anaconda3\\lib\\site-packages (from python-dateutil>=2.7->matplotlib) (1.16.0)\n",
      "Requirement already satisfied: threadpoolctl>=2.0.0 in c:\\users\\lenovo\\anaconda3\\lib\\site-packages (from scikit-learn>=1.1.0->librosa) (2.2.0)\n",
      "Requirement already satisfied: cffi>=1.0 in c:\\users\\lenovo\\anaconda3\\lib\\site-packages (from soundfile>=0.12.1->librosa) (1.15.1)\n",
      "Requirement already satisfied: executing in c:\\users\\lenovo\\anaconda3\\lib\\site-packages (from stack-data->ipython) (0.8.3)\n",
      "Requirement already satisfied: asttokens in c:\\users\\lenovo\\anaconda3\\lib\\site-packages (from stack-data->ipython) (2.0.5)\n",
      "Requirement already satisfied: pure-eval in c:\\users\\lenovo\\anaconda3\\lib\\site-packages (from stack-data->ipython) (0.2.2)\n",
      "Requirement already satisfied: pycparser in c:\\users\\lenovo\\anaconda3\\lib\\site-packages (from cffi>=1.0->soundfile>=0.12.1->librosa) (2.21)\n",
      "Requirement already satisfied: charset-normalizer<4,>=2 in c:\\users\\lenovo\\anaconda3\\lib\\site-packages (from requests>=2.19.0->pooch>=1.1->librosa) (2.0.4)\n",
      "Requirement already satisfied: idna<4,>=2.5 in c:\\users\\lenovo\\anaconda3\\lib\\site-packages (from requests>=2.19.0->pooch>=1.1->librosa) (3.4)\n",
      "Requirement already satisfied: urllib3<3,>=1.21.1 in c:\\users\\lenovo\\anaconda3\\lib\\site-packages (from requests>=2.19.0->pooch>=1.1->librosa) (1.26.16)\n",
      "Requirement already satisfied: certifi>=2017.4.17 in c:\\users\\lenovo\\anaconda3\\lib\\site-packages (from requests>=2.19.0->pooch>=1.1->librosa) (2023.11.17)\n",
      "Downloading pydub-0.25.1-py2.py3-none-any.whl (32 kB)\n",
      "Downloading librosa-0.11.0-py3-none-any.whl (260 kB)\n",
      "   ---------------------------------------- 0.0/260.7 kB ? eta -:--:--\n",
      "   --------- ------------------------------ 61.4/260.7 kB 1.7 MB/s eta 0:00:01\n",
      "   ------------ --------------------------- 81.9/260.7 kB 1.1 MB/s eta 0:00:01\n",
      "   -------------------------- ------------- 174.1/260.7 kB 1.5 MB/s eta 0:00:01\n",
      "   ----------------------------- ---------- 194.6/260.7 kB 1.1 MB/s eta 0:00:01\n",
      "   ----------------------------- ---------- 194.6/260.7 kB 1.1 MB/s eta 0:00:01\n",
      "   ---------------------------------------- 260.7/260.7 kB 1.0 MB/s eta 0:00:00\n",
      "Downloading audioread-3.0.1-py3-none-any.whl (23 kB)\n",
      "Downloading pooch-1.8.2-py3-none-any.whl (64 kB)\n",
      "   ---------------------------------------- 0.0/64.6 kB ? eta -:--:--\n",
      "   ---------------------------------------- 64.6/64.6 kB 3.4 MB/s eta 0:00:00\n",
      "Downloading soundfile-0.13.1-py2.py3-none-win_amd64.whl (1.0 MB)\n",
      "   ---------------------------------------- 0.0/1.0 MB ? eta -:--:--\n",
      "   --- ------------------------------------ 0.1/1.0 MB ? eta -:--:--\n",
      "   --- ------------------------------------ 0.1/1.0 MB ? eta -:--:--\n",
      "   ----- ---------------------------------- 0.1/1.0 MB 1.7 MB/s eta 0:00:01\n",
      "   -------- ------------------------------- 0.2/1.0 MB 2.0 MB/s eta 0:00:01\n",
      "   ---------- ----------------------------- 0.3/1.0 MB 1.5 MB/s eta 0:00:01\n",
      "   --------------- ------------------------ 0.4/1.0 MB 1.6 MB/s eta 0:00:01\n",
      "   --------------- ------------------------ 0.4/1.0 MB 1.6 MB/s eta 0:00:01\n",
      "   ------------------ --------------------- 0.5/1.0 MB 1.4 MB/s eta 0:00:01\n",
      "   -------------------- ------------------- 0.5/1.0 MB 1.5 MB/s eta 0:00:01\n",
      "   ------------------------ --------------- 0.6/1.0 MB 1.5 MB/s eta 0:00:01\n",
      "   ----------------------------- ---------- 0.7/1.0 MB 1.6 MB/s eta 0:00:01\n",
      "   ------------------------------ --------- 0.8/1.0 MB 1.5 MB/s eta 0:00:01\n",
      "   ----------------------------------- ---- 0.9/1.0 MB 1.6 MB/s eta 0:00:01\n",
      "   -------------------------------------- - 1.0/1.0 MB 1.6 MB/s eta 0:00:01\n",
      "   ---------------------------------------- 1.0/1.0 MB 1.6 MB/s eta 0:00:00\n",
      "Downloading soxr-0.5.0.post1-cp311-cp311-win_amd64.whl (166 kB)\n",
      "   ---------------------------------------- 0.0/166.7 kB ? eta -:--:--\n",
      "   ------------------- -------------------- 81.9/166.7 kB 4.5 MB/s eta 0:00:01\n",
      "   ------------------- -------------------- 81.9/166.7 kB 4.5 MB/s eta 0:00:01\n",
      "   ------------------- -------------------- 81.9/166.7 kB 4.5 MB/s eta 0:00:01\n",
      "   -------------------------------------- 166.7/166.7 kB 909.8 kB/s eta 0:00:00\n",
      "Installing collected packages: pydub, soxr, audioread, soundfile, pooch, librosa\n",
      "Successfully installed audioread-3.0.1 librosa-0.11.0 pooch-1.8.2 pydub-0.25.1 soundfile-0.13.1 soxr-0.5.0.post1\n"
     ]
    }
   ],
   "source": [
    "!pip install ipython pydub numpy scipy plotly matplotlib librosa\n"
   ]
  },
  {
   "cell_type": "code",
   "execution_count": null,
   "metadata": {
    "id": "WOVajGKODp55"
   },
   "outputs": [],
   "source": [
    "import IPython\n",
    "from pydub import AudioSegment\n",
    "import numpy as np\n",
    "from scipy.io import wavfile\n",
    "from plotly.offline import init_notebook_mode\n",
    "import scipy.signal\n",
    "import matplotlib.pyplot as plt\n",
    "import librosa\n",
    "import plotly.graph_objs as go\n",
    "import plotly\n",
    "import os\n",
    "import time\n",
    "from datetime import timedelta as td"
   ]
  },
  {
   "cell_type": "code",
   "execution_count": null,
   "metadata": {
    "id": "kYq5dHV0Dp57"
   },
   "outputs": [],
   "source": [
    "# NOISE REMOVAL CODE from https://timsainburg.com/noise-reduction-python.html\n",
    "def _stft(y, n_fft, hop_length, win_length):\n",
    "    return librosa.stft(y=y, n_fft=n_fft, hop_length=hop_length, win_length=win_length)\n",
    "\n",
    "\n",
    "def _istft(y, hop_length):\n",
    "    return librosa.istft(y, hop_length=hop_length)\n",
    "\n",
    "\n",
    "\n",
    "def _amp_to_db(x):\n",
    "    return librosa.core.amplitude_to_db(x, ref=1.0, amin=1e-20, top_db=80.0)\n",
    "\n",
    "\n",
    "def _db_to_amp(x,):\n",
    "    return librosa.core.db_to_amplitude(x, ref=1.0)\n",
    "\n",
    "\n",
    "def plot_spectrogram(signal, title):\n",
    "    fig, ax = plt.subplots(figsize=(20, 4))\n",
    "    cax = ax.matshow(\n",
    "        signal,\n",
    "        origin=\"lower\",\n",
    "        aspect=\"auto\",\n",
    "        cmap=plt.cm.seismic,\n",
    "        vmin=-1 * np.max(np.abs(signal)),\n",
    "        vmax=np.max(np.abs(signal)),\n",
    "    )\n",
    "    fig.colorbar(cax)\n",
    "    ax.set_title(title)\n",
    "    plt.tight_layout()\n",
    "    plt.show()\n",
    "\n",
    "\n",
    "def plot_statistics_and_filter(\n",
    "    mean_freq_noise, std_freq_noise, noise_thresh, smoothing_filter\n",
    "):\n",
    "    fig, ax = plt.subplots(ncols=2, figsize=(20, 4))\n",
    "    plt_mean, = ax[0].plot(mean_freq_noise, label=\"Mean power of noise\")\n",
    "    plt_std, = ax[0].plot(std_freq_noise, label=\"Std. power of noise\")\n",
    "    plt_std, = ax[0].plot(noise_thresh, label=\"Noise threshold (by frequency)\")\n",
    "    ax[0].set_title(\"Threshold for mask\")\n",
    "    ax[0].legend()\n",
    "    cax = ax[1].matshow(smoothing_filter, origin=\"lower\")\n",
    "    fig.colorbar(cax)\n",
    "    ax[1].set_title(\"Filter for smoothing Mask\")\n",
    "    plt.show()\n",
    "\n",
    "\n",
    "def removeNoise(\n",
    "    audio_clip,\n",
    "    noise_clip,\n",
    "    n_grad_freq=2,\n",
    "    n_grad_time=4,\n",
    "    n_fft=2048,\n",
    "    win_length=2048,\n",
    "    hop_length=512,\n",
    "    n_std_thresh=1.5,\n",
    "    prop_decrease=1.0,\n",
    "    verbose=False,\n",
    "    visual=False,\n",
    "):\n",
    "    \"\"\"Remove noise from audio based upon a clip containing only noise\n",
    "\n",
    "    Args:\n",
    "        audio_clip (array): The first parameter.\n",
    "        noise_clip (array): The second parameter.\n",
    "        n_grad_freq (int): how many frequency channels to smooth over with the mask.\n",
    "        n_grad_time (int): how many time channels to smooth over with the mask.\n",
    "        n_fft (int): number audio of frames between STFT columns.\n",
    "        win_length (int): Each frame of audio is windowed by `window()`. The window will be of length `win_length` and then padded with zeros to match `n_fft`..\n",
    "        hop_length (int):number audio of frames between STFT columns.\n",
    "        n_std_thresh (int): how many standard deviations louder than the mean dB of the noise (at each frequency level) to be considered signal\n",
    "        prop_decrease (float): To what extent should you decrease noise (1 = all, 0 = none)\n",
    "        visual (bool): Whether to plot the steps of the algorithm\n",
    "\n",
    "    Returns:\n",
    "        array: The recovered signal with noise subtracted\n",
    "\n",
    "    \"\"\"\n",
    "    if verbose:\n",
    "        start = time.time()\n",
    "    # STFT over noise\n",
    "    noise_stft = _stft(noise_clip, n_fft, hop_length, win_length)\n",
    "    noise_stft_db = _amp_to_db(np.abs(noise_stft))  # convert to dB\n",
    "    # Calculate statistics over noise\n",
    "    mean_freq_noise = np.mean(noise_stft_db, axis=1)\n",
    "    std_freq_noise = np.std(noise_stft_db, axis=1)\n",
    "    noise_thresh = mean_freq_noise + std_freq_noise * n_std_thresh\n",
    "    if verbose:\n",
    "        print(\"STFT on noise:\", td(seconds=time.time() - start))\n",
    "        start = time.time()\n",
    "    # STFT over signal\n",
    "    if verbose:\n",
    "        start = time.time()\n",
    "    sig_stft = _stft(audio_clip, n_fft, hop_length, win_length)\n",
    "    sig_stft_db = _amp_to_db(np.abs(sig_stft))\n",
    "    if verbose:\n",
    "        print(\"STFT on signal:\", td(seconds=time.time() - start))\n",
    "        start = time.time()\n",
    "    # Calculate value to mask dB to\n",
    "    mask_gain_dB = np.min(_amp_to_db(np.abs(sig_stft)))\n",
    "    print(noise_thresh, mask_gain_dB)\n",
    "    # Create a smoothing filter for the mask in time and frequency\n",
    "    smoothing_filter = np.outer(\n",
    "        np.concatenate(\n",
    "            [\n",
    "                np.linspace(0, 1, n_grad_freq + 1, endpoint=False),\n",
    "                np.linspace(1, 0, n_grad_freq + 2),\n",
    "            ]\n",
    "        )[1:-1],\n",
    "        np.concatenate(\n",
    "            [\n",
    "                np.linspace(0, 1, n_grad_time + 1, endpoint=False),\n",
    "                np.linspace(1, 0, n_grad_time + 2),\n",
    "            ]\n",
    "        )[1:-1],\n",
    "    )\n",
    "    smoothing_filter = smoothing_filter / np.sum(smoothing_filter)\n",
    "    # calculate the threshold for each frequency/time bin\n",
    "    db_thresh = np.repeat(\n",
    "        np.reshape(noise_thresh, [1, len(mean_freq_noise)]),\n",
    "        np.shape(sig_stft_db)[1],\n",
    "        axis=0,\n",
    "    ).T\n",
    "    # mask if the signal is above the threshold\n",
    "    sig_mask = sig_stft_db < db_thresh\n",
    "    if verbose:\n",
    "        print(\"Masking:\", td(seconds=time.time() - start))\n",
    "        start = time.time()\n",
    "    # convolve the mask with a smoothing filter\n",
    "    sig_mask = scipy.signal.fftconvolve(sig_mask, smoothing_filter, mode=\"same\")\n",
    "    sig_mask = sig_mask * prop_decrease\n",
    "    if verbose:\n",
    "        print(\"Mask convolution:\", td(seconds=time.time() - start))\n",
    "        start = time.time()\n",
    "    # mask the signal\n",
    "    sig_stft_db_masked = (\n",
    "        sig_stft_db * (1 - sig_mask)\n",
    "        + np.ones(np.shape(mask_gain_dB)) * mask_gain_dB * sig_mask\n",
    "    )  # mask real\n",
    "    sig_imag_masked = np.imag(sig_stft) * (1 - sig_mask)\n",
    "    sig_stft_amp = (_db_to_amp(sig_stft_db_masked) * np.sign(sig_stft)) + (\n",
    "        1j * sig_imag_masked\n",
    "    )\n",
    "    if verbose:\n",
    "        print(\"Mask application:\", td(seconds=time.time() - start))\n",
    "        start = time.time()\n",
    "    # recover the signal\n",
    "    recovered_signal = _istft(sig_stft_amp, hop_length)\n",
    "    recovered_spec = _amp_to_db(\n",
    "        np.abs(_stft(recovered_signal, n_fft, hop_length, win_length))\n",
    "    )\n",
    "    if verbose:\n",
    "        print(\"Signal recovery:\", td(seconds=time.time() - start))\n",
    "    if visual:\n",
    "        plot_spectrogram(noise_stft_db, title=\"Noise\")\n",
    "    if visual:\n",
    "        plot_statistics_and_filter(\n",
    "            mean_freq_noise, std_freq_noise, noise_thresh, smoothing_filter\n",
    "        )\n",
    "    if visual:\n",
    "        plot_spectrogram(sig_stft_db, title=\"Signal\")\n",
    "    if visual:\n",
    "        plot_spectrogram(sig_mask, title=\"Mask applied\")\n",
    "    if visual:\n",
    "        plot_spectrogram(sig_stft_db_masked, title=\"Masked signal\")\n",
    "    if visual:\n",
    "        plot_spectrogram(recovered_spec, title=\"Recovered spectrogram\")\n",
    "    return recovered_signal"
   ]
  },
  {
   "cell_type": "code",
   "execution_count": null,
   "metadata": {
    "colab": {
     "base_uri": "https://localhost:8080/",
     "height": 318
    },
    "id": "aFt7N0JpDp58",
    "outputId": "94d5c193-3baf-4397-88f3-1b0c4e5633a6"
   },
   "outputs": [],
   "source": [
    "rate1, noise_clip = wavfile.read(\"Noise.wav\")\n",
    "rate2, audio = wavfile.read(\"300_AUDIO_p.wav\")\n",
    "noise_clip = noise_clip / (2**15)\n",
    "audio = audio / (2**15)\n",
    "print(audio)\n",
    "output = removeNoise(audio_clip=audio, noise_clip=noise_clip)\n",
    "print(output)\n",
    "wavfile.write(f\"300_AUDIO_p_nr.wav\", rate1, output) ## nr = Noise Reduced\n",
    "IPython.display.Audio(data=audio, rate=44100)"
   ]
  },
  {
   "cell_type": "code",
   "execution_count": null,
   "metadata": {
    "colab": {
     "background_save": true,
     "base_uri": "https://localhost:8080/",
     "height": 145
    },
    "id": "nd4MyUs-Dp59",
    "outputId": "69c36067-9cbd-42f0-a613-d813da8c66a1"
   },
   "outputs": [],
   "source": [
    "rate1, noise_clip = wavfile.read(\"Noise.wav\")\n",
    "IPython.display.Audio(data=noise_clip, rate=44100)"
   ]
  },
  {
   "cell_type": "code",
   "execution_count": null,
   "metadata": {
    "colab": {
     "background_save": true,
     "base_uri": "https://localhost:8080/"
    },
    "id": "TPPSnlxzF27Q",
    "outputId": "898b6db5-cf0d-4405-f14c-01a359172d65"
   },
   "outputs": [
    {
     "name": "stdout",
     "output_type": "stream",
     "text": [
      "Requirement already satisfied: noisereduce in /usr/local/lib/python3.11/dist-packages (3.0.3)\n",
      "Requirement already satisfied: scipy in /usr/local/lib/python3.11/dist-packages (from noisereduce) (1.14.1)\n",
      "Requirement already satisfied: matplotlib in /usr/local/lib/python3.11/dist-packages (from noisereduce) (3.10.0)\n",
      "Requirement already satisfied: numpy in /usr/local/lib/python3.11/dist-packages (from noisereduce) (2.0.2)\n",
      "Requirement already satisfied: tqdm in /usr/local/lib/python3.11/dist-packages (from noisereduce) (4.67.1)\n",
      "Requirement already satisfied: joblib in /usr/local/lib/python3.11/dist-packages (from noisereduce) (1.4.2)\n",
      "Requirement already satisfied: contourpy>=1.0.1 in /usr/local/lib/python3.11/dist-packages (from matplotlib->noisereduce) (1.3.1)\n",
      "Requirement already satisfied: cycler>=0.10 in /usr/local/lib/python3.11/dist-packages (from matplotlib->noisereduce) (0.12.1)\n",
      "Requirement already satisfied: fonttools>=4.22.0 in /usr/local/lib/python3.11/dist-packages (from matplotlib->noisereduce) (4.56.0)\n",
      "Requirement already satisfied: kiwisolver>=1.3.1 in /usr/local/lib/python3.11/dist-packages (from matplotlib->noisereduce) (1.4.8)\n",
      "Requirement already satisfied: packaging>=20.0 in /usr/local/lib/python3.11/dist-packages (from matplotlib->noisereduce) (24.2)\n",
      "Requirement already satisfied: pillow>=8 in /usr/local/lib/python3.11/dist-packages (from matplotlib->noisereduce) (11.1.0)\n",
      "Requirement already satisfied: pyparsing>=2.3.1 in /usr/local/lib/python3.11/dist-packages (from matplotlib->noisereduce) (3.2.1)\n",
      "Requirement already satisfied: python-dateutil>=2.7 in /usr/local/lib/python3.11/dist-packages (from matplotlib->noisereduce) (2.8.2)\n",
      "Requirement already satisfied: six>=1.5 in /usr/local/lib/python3.11/dist-packages (from python-dateutil>=2.7->matplotlib->noisereduce) (1.17.0)\n"
     ]
    }
   ],
   "source": [
    "!pip install noisereduce"
   ]
  },
  {
   "cell_type": "code",
   "execution_count": null,
   "metadata": {
    "colab": {
     "background_save": true,
     "base_uri": "https://localhost:8080/"
    },
    "id": "yGv4YPJYDp59",
    "outputId": "6f922eb1-f1e5-4106-b623-29fecd60062e"
   },
   "outputs": [
    {
     "name": "stderr",
     "output_type": "stream",
     "text": [
      "<ipython-input-24-91b2d5044988>:4: WavFileWarning:\n",
      "\n",
      "Reached EOF prematurely; finished at 20752044 bytes, expected 166016044 bytes from header.\n",
      "\n"
     ]
    }
   ],
   "source": [
    "# this lib is created by the same person in the reference above\n",
    "import noisereduce as nr\n",
    "rate2, audio = wavfile.read(\"300_AUDIO_p.wav\")\n",
    "rate1, noise = wavfile.read(\"Noise.wav\")\n",
    "audio = audio / 2**15\n",
    "noise = noise / 2**15\n",
    "reduced_noise = nr.reduce_noise(y=audio, y_noise=noise, sr=rate2)\n"
   ]
  },
  {
   "cell_type": "code",
   "execution_count": null,
   "metadata": {
    "colab": {
     "background_save": true
    },
    "id": "LxLdLpNLDp5-"
   },
   "outputs": [],
   "source": [
    "wavfile.write(f\"300_AUDIO_p_nr.wav\", rate1, reduced_noise) ## nr = Noise Reduced"
   ]
  },
  {
   "cell_type": "code",
   "execution_count": null,
   "metadata": {
    "id": "tD5vwWLxDp5-"
   },
   "outputs": [],
   "source": []
  },
  {
   "cell_type": "code",
   "execution_count": null,
   "metadata": {
    "id": "bzeyLy8udG6F"
   },
   "outputs": [],
   "source": []
  },
  {
   "cell_type": "code",
   "execution_count": null,
   "metadata": {
    "id": "A1itUh5-dG81"
   },
   "outputs": [],
   "source": []
  },
  {
   "cell_type": "code",
   "execution_count": null,
   "metadata": {
    "colab": {
     "base_uri": "https://localhost:8080/"
    },
    "id": "8KFAIoJLdG_W",
    "outputId": "f8e8fff2-a45a-4dbb-d7e4-819e1fc67a72"
   },
   "outputs": [
    {
     "name": "stdout",
     "output_type": "stream",
     "text": [
      "Collecting noisereduce\n",
      "  Downloading noisereduce-3.0.3-py3-none-any.whl.metadata (14 kB)\n",
      "Requirement already satisfied: scipy in /usr/local/lib/python3.11/dist-packages (from noisereduce) (1.14.1)\n",
      "Requirement already satisfied: matplotlib in /usr/local/lib/python3.11/dist-packages (from noisereduce) (3.10.0)\n",
      "Requirement already satisfied: numpy in /usr/local/lib/python3.11/dist-packages (from noisereduce) (2.0.2)\n",
      "Requirement already satisfied: tqdm in /usr/local/lib/python3.11/dist-packages (from noisereduce) (4.67.1)\n",
      "Requirement already satisfied: joblib in /usr/local/lib/python3.11/dist-packages (from noisereduce) (1.4.2)\n",
      "Requirement already satisfied: contourpy>=1.0.1 in /usr/local/lib/python3.11/dist-packages (from matplotlib->noisereduce) (1.3.1)\n",
      "Requirement already satisfied: cycler>=0.10 in /usr/local/lib/python3.11/dist-packages (from matplotlib->noisereduce) (0.12.1)\n",
      "Requirement already satisfied: fonttools>=4.22.0 in /usr/local/lib/python3.11/dist-packages (from matplotlib->noisereduce) (4.56.0)\n",
      "Requirement already satisfied: kiwisolver>=1.3.1 in /usr/local/lib/python3.11/dist-packages (from matplotlib->noisereduce) (1.4.8)\n",
      "Requirement already satisfied: packaging>=20.0 in /usr/local/lib/python3.11/dist-packages (from matplotlib->noisereduce) (24.2)\n",
      "Requirement already satisfied: pillow>=8 in /usr/local/lib/python3.11/dist-packages (from matplotlib->noisereduce) (11.1.0)\n",
      "Requirement already satisfied: pyparsing>=2.3.1 in /usr/local/lib/python3.11/dist-packages (from matplotlib->noisereduce) (3.2.3)\n",
      "Requirement already satisfied: python-dateutil>=2.7 in /usr/local/lib/python3.11/dist-packages (from matplotlib->noisereduce) (2.8.2)\n",
      "Requirement already satisfied: six>=1.5 in /usr/local/lib/python3.11/dist-packages (from python-dateutil>=2.7->matplotlib->noisereduce) (1.17.0)\n",
      "Downloading noisereduce-3.0.3-py3-none-any.whl (22 kB)\n",
      "Installing collected packages: noisereduce\n",
      "Successfully installed noisereduce-3.0.3\n"
     ]
    }
   ],
   "source": [
    "!pip install noisereduce"
   ]
  },
  {
   "cell_type": "code",
   "execution_count": null,
   "metadata": {
    "colab": {
     "base_uri": "https://localhost:8080/"
    },
    "id": "FjAOLR39dHFf",
    "outputId": "866d203e-91c4-4aa5-a24d-04c7bedf3ced"
   },
   "outputs": [
    {
     "name": "stdout",
     "output_type": "stream",
     "text": [
      "Processing: 300_AUDIO_p.wav\n",
      "Processing: 301_AUDIO_p.wav\n"
     ]
    }
   ],
   "source": [
    "import librosa\n",
    "import noisereduce as nr\n",
    "import soundfile as sf\n",
    "\n",
    "# List of input-output file pairs\n",
    "files = [\n",
    "    (\"300_AUDIO_p.wav\", \"cleaned_300.wav\"),\n",
    "    (\"301_AUDIO_p.wav\", \"cleaned_301.wav\")\n",
    "]\n",
    "\n",
    "# Process each file\n",
    "for input_file, output_file in files:\n",
    "    print(f\"Processing: {input_file}\")\n",
    "\n",
    "    # Load audio\n",
    "    y, sr = librosa.load(input_file, sr=None)\n",
    "\n",
    "    # Use first 10 seconds as noise profile\n",
    "    noise_part = y[:int(sr * 0.5)]\n",
    "\n",
    "    # Apply noise reduction\n",
    "    reduced_noise = nr.reduce_noise(y=y, sr=sr, y_noise=noise_part, prop_decrease=0.8)\n",
    "\n",
    "    # Save cleaned audio\n",
    "    sf.write(output_file, reduced_noise, sr)"
   ]
  },
  {
   "cell_type": "code",
   "execution_count": null,
   "metadata": {
    "id": "FVycaTGIVRTX"
   },
   "outputs": [],
   "source": [
    "import librosa\n",
    "import numpy as np\n",
    "import pandas as pd\n",
    "\n",
    "# Paths and labels\n",
    "files = ['cleaned_300.wav', 'cleaned_301.wav']\n",
    "labels = [1, 0]\n",
    "\n",
    "# Feature extraction\n",
    "def extract_features(path):\n",
    "    y, sr = librosa.load(path, sr=16000)\n",
    "    mfcc = librosa.feature.mfcc(y=y, sr=sr, n_mfcc=13)\n",
    "    return np.mean(mfcc.T, axis=0)\n",
    "\n",
    "X = [extract_features(f) for f in files]\n",
    "y = labels\n",
    "\n",
    "df = pd.DataFrame(X)\n",
    "df[\"label\"] = y\n"
   ]
  },
  {
   "cell_type": "code",
   "execution_count": null,
   "metadata": {
    "colab": {
     "base_uri": "https://localhost:8080/"
    },
    "id": "GO3GVHl-jtK5",
    "outputId": "494b3f32-a02e-40da-b8f7-52bed6cc4cae"
   },
   "outputs": [
    {
     "name": "stdout",
     "output_type": "stream",
     "text": [
      "Accuracy: 1.0\n",
      "              precision    recall  f1-score   support\n",
      "\n",
      "           0       1.00      1.00      1.00         1\n",
      "           1       1.00      1.00      1.00         1\n",
      "\n",
      "    accuracy                           1.00         2\n",
      "   macro avg       1.00      1.00      1.00         2\n",
      "weighted avg       1.00      1.00      1.00         2\n",
      "\n"
     ]
    }
   ],
   "source": [
    "from sklearn.linear_model import LogisticRegression\n",
    "from sklearn.metrics import accuracy_score, classification_report\n",
    "\n",
    "# Train/test split\n",
    "X_features = df.drop(\"label\", axis=1).values\n",
    "y_labels = df[\"label\"].values\n",
    "\n",
    "# Train model\n",
    "model = LogisticRegression()\n",
    "model.fit(X_features, y_labels)\n",
    "\n",
    "# Predict on same input for now (demo)\n",
    "preds = model.predict(X_features)\n",
    "print(\"Accuracy:\", accuracy_score(y_labels, preds))\n",
    "print(classification_report(y_labels, preds))\n"
   ]
  },
  {
   "cell_type": "code",
   "execution_count": null,
   "metadata": {
    "id": "HrfxCwPMjv8Z"
   },
   "outputs": [],
   "source": []
  }
 ],
 "metadata": {
  "colab": {
   "provenance": []
  },
  "kernelspec": {
   "display_name": "Python 3 (ipykernel)",
   "language": "python",
   "name": "python3"
  },
  "language_info": {
   "codemirror_mode": {
    "name": "ipython",
    "version": 3
   },
   "file_extension": ".py",
   "mimetype": "text/x-python",
   "name": "python",
   "nbconvert_exporter": "python",
   "pygments_lexer": "ipython3",
   "version": "3.11.5"
  }
 },
 "nbformat": 4,
 "nbformat_minor": 1
}
