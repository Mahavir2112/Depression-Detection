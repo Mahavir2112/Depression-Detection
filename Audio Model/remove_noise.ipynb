{
 "cells": [
  {
   "cell_type": "markdown",
   "metadata": {
    "id": "o7yeqpptDp51"
   },
   "source": [
    "## Noise Reduction"
   ]
  },
  {
   "cell_type": "markdown",
   "metadata": {
    "id": "JCUtwUT-Dp55"
   },
   "source": [
    "#### Packages"
   ]
  },
  {
   "cell_type": "code",
   "execution_count": 4,
   "metadata": {
    "colab": {
     "base_uri": "https://localhost:8080/"
    },
    "id": "8KFAIoJLdG_W",
    "outputId": "f8e8fff2-a45a-4dbb-d7e4-819e1fc67a72"
   },
   "outputs": [
    {
     "name": "stdout",
     "output_type": "stream",
     "text": [
      "Collecting noisereduce\n",
      "  Obtaining dependency information for noisereduce from https://files.pythonhosted.org/packages/ce/c5/fc00b3e8f86437039fb300ba41d5d683fdf0878d8782e827c2bad074eb59/noisereduce-3.0.3-py3-none-any.whl.metadata\n",
      "  Downloading noisereduce-3.0.3-py3-none-any.whl.metadata (14 kB)\n",
      "Requirement already satisfied: scipy in c:\\users\\lenovo\\anaconda3\\lib\\site-packages (from noisereduce) (1.11.1)\n",
      "Requirement already satisfied: matplotlib in c:\\users\\lenovo\\anaconda3\\lib\\site-packages (from noisereduce) (3.7.2)\n",
      "Requirement already satisfied: numpy in c:\\users\\lenovo\\anaconda3\\lib\\site-packages (from noisereduce) (1.24.3)\n",
      "Requirement already satisfied: tqdm in c:\\users\\lenovo\\anaconda3\\lib\\site-packages (from noisereduce) (4.65.0)\n",
      "Requirement already satisfied: joblib in c:\\users\\lenovo\\anaconda3\\lib\\site-packages (from noisereduce) (1.2.0)\n",
      "Requirement already satisfied: contourpy>=1.0.1 in c:\\users\\lenovo\\anaconda3\\lib\\site-packages (from matplotlib->noisereduce) (1.0.5)\n",
      "Requirement already satisfied: cycler>=0.10 in c:\\users\\lenovo\\anaconda3\\lib\\site-packages (from matplotlib->noisereduce) (0.11.0)\n",
      "Requirement already satisfied: fonttools>=4.22.0 in c:\\users\\lenovo\\anaconda3\\lib\\site-packages (from matplotlib->noisereduce) (4.25.0)\n",
      "Requirement already satisfied: kiwisolver>=1.0.1 in c:\\users\\lenovo\\anaconda3\\lib\\site-packages (from matplotlib->noisereduce) (1.4.4)\n",
      "Requirement already satisfied: packaging>=20.0 in c:\\users\\lenovo\\anaconda3\\lib\\site-packages (from matplotlib->noisereduce) (23.1)\n",
      "Requirement already satisfied: pillow>=6.2.0 in c:\\users\\lenovo\\anaconda3\\lib\\site-packages (from matplotlib->noisereduce) (9.4.0)\n",
      "Requirement already satisfied: pyparsing<3.1,>=2.3.1 in c:\\users\\lenovo\\anaconda3\\lib\\site-packages (from matplotlib->noisereduce) (3.0.9)\n",
      "Requirement already satisfied: python-dateutil>=2.7 in c:\\users\\lenovo\\anaconda3\\lib\\site-packages (from matplotlib->noisereduce) (2.8.2)\n",
      "Requirement already satisfied: colorama in c:\\users\\lenovo\\anaconda3\\lib\\site-packages (from tqdm->noisereduce) (0.4.6)\n",
      "Requirement already satisfied: six>=1.5 in c:\\users\\lenovo\\anaconda3\\lib\\site-packages (from python-dateutil>=2.7->matplotlib->noisereduce) (1.16.0)\n",
      "Downloading noisereduce-3.0.3-py3-none-any.whl (22 kB)\n",
      "Installing collected packages: noisereduce\n",
      "Successfully installed noisereduce-3.0.3\n"
     ]
    }
   ],
   "source": [
    "!pip install noisereduce"
   ]
  },
  {
   "cell_type": "code",
   "execution_count": 3,
   "metadata": {
    "colab": {
     "base_uri": "https://localhost:8080/"
    },
    "id": "FjAOLR39dHFf",
    "outputId": "866d203e-91c4-4aa5-a24d-04c7bedf3ced"
   },
   "outputs": [
    {
     "name": "stdout",
     "output_type": "stream",
     "text": [
      "Processing 300_silent.wav → 300_p.wav\n",
      "Processing 301_silent.wav → 301_p.wav\n",
      "Processing 302_silent.wav → 302_p.wav\n",
      "Processing 303_silent.wav → 303_p.wav\n",
      "Processing 304_silent.wav → 304_p.wav\n",
      "Processing 319_silent.wav → 319_p.wav\n",
      "Processing 320_silent.wav → 320_p.wav\n",
      "Processing 321_silent.wav → 321_p.wav\n",
      "\n",
      "Done! Cleaned files saved to the 'Processed' folder.\n"
     ]
    }
   ],
   "source": [
    "import os\n",
    "import librosa\n",
    "import noisereduce as nr\n",
    "import soundfile as sf\n",
    "\n",
    "# ─── paths ──────────────────────────────────────────────────────────────\n",
    "BASE_DIR   = os.getcwd()                              \n",
    "IN_DIR     = os.path.join(BASE_DIR, \"AfterSilent\")\n",
    "OUT_DIR    = os.path.join(BASE_DIR, \"Processed\")\n",
    "os.makedirs(OUT_DIR, exist_ok=True)\n",
    "\n",
    "# ─── collect input wavs ─────────────────────────────────────────────────\n",
    "wav_files = sorted(\n",
    "    f for f in os.listdir(IN_DIR)\n",
    "    if f.endswith(\"_silent.wav\") and f[:3].isdigit()\n",
    ")\n",
    "\n",
    "if not wav_files:\n",
    "    raise FileNotFoundError(\"No *_silent.wav files found in 'AfterSilent'\")\n",
    "\n",
    "# ─── batch noise-reduction ──────────────────────────────────────────────\n",
    "for fname in wav_files:\n",
    "    infile  = os.path.join(IN_DIR, fname)\n",
    "    idx     = fname[:3]  # the 300 / 301 / 302 part\n",
    "    outfile = os.path.join(OUT_DIR, f\"{idx}_p.wav\")\n",
    "\n",
    "    print(f\"Processing {fname} → {os.path.basename(outfile)}\")\n",
    "\n",
    "    # Load audio (preserve original sample rate)\n",
    "    y, sr = librosa.load(infile, sr=None)\n",
    "\n",
    "    # First 0.5s as noise profile\n",
    "    noise_part = y[: int(sr * 0.5)]\n",
    "\n",
    "    # Reduce noise\n",
    "    cleaned = nr.reduce_noise(y=y, y_noise=noise_part, sr=sr, prop_decrease=0.8)\n",
    "\n",
    "    # Save result\n",
    "    sf.write(outfile, cleaned, sr)\n",
    "\n",
    "print(\"\\nDone! Cleaned files saved to the 'Processed' folder.\")\n"
   ]
  },
  {
   "cell_type": "code",
   "execution_count": null,
   "metadata": {},
   "outputs": [],
   "source": []
  }
 ],
 "metadata": {
  "colab": {
   "provenance": []
  },
  "kernelspec": {
   "display_name": "Python 3 (ipykernel)",
   "language": "python",
   "name": "python3"
  },
  "language_info": {
   "codemirror_mode": {
    "name": "ipython",
    "version": 3
   },
   "file_extension": ".py",
   "mimetype": "text/x-python",
   "name": "python",
   "nbconvert_exporter": "python",
   "pygments_lexer": "ipython3",
   "version": "3.11.5"
  }
 },
 "nbformat": 4,
 "nbformat_minor": 1
}
