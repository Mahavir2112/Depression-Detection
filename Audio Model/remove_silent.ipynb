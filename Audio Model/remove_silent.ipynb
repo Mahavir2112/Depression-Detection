{
 "cells": [
  {
   "cell_type": "markdown",
   "metadata": {
    "id": "3faZ8RgzKT5y"
   },
   "source": [
    "## Removing silent segments from recording"
   ]
  },
  {
   "cell_type": "code",
   "execution_count": 1,
   "metadata": {
    "id": "8M_vd8_dKT50"
   },
   "outputs": [
    {
     "name": "stderr",
     "output_type": "stream",
     "text": [
      "C:\\Users\\Lenovo\\anaconda3\\Lib\\site-packages\\pydub\\utils.py:170: RuntimeWarning: Couldn't find ffmpeg or avconv - defaulting to ffmpeg, but may not work\n",
      "  warn(\"Couldn't find ffmpeg or avconv - defaulting to ffmpeg, but may not work\", RuntimeWarning)\n"
     ]
    }
   ],
   "source": [
    "# imports\n",
    "import IPython\n",
    "from pydub import AudioSegment\n",
    "import numpy as np\n",
    "from scipy.io import wavfile\n",
    "from plotly.offline import init_notebook_mode\n",
    "import plotly.graph_objs as go\n",
    "import plotly\n",
    "import os"
   ]
  },
  {
   "cell_type": "code",
   "execution_count": 3,
   "metadata": {
    "id": "qHR3KsbyKT55"
   },
   "outputs": [
    {
     "name": "stderr",
     "output_type": "stream",
     "text": [
      "C:\\Users\\Lenovo\\AppData\\Local\\Temp\\ipykernel_7860\\1118296751.py:25: WavFileWarning:\n",
      "\n",
      "Reached EOF prematurely; finished at 20752044 bytes, expected 166016044 bytes from header.\n",
      "\n",
      "C:\\Users\\Lenovo\\AppData\\Local\\Temp\\ipykernel_7860\\1118296751.py:25: WavFileWarning:\n",
      "\n",
      "Reached EOF prematurely; finished at 26364844 bytes, expected 210918444 bytes from header.\n",
      "\n",
      "C:\\Users\\Lenovo\\AppData\\Local\\Temp\\ipykernel_7860\\1118296751.py:25: WavFileWarning:\n",
      "\n",
      "Reached EOF prematurely; finished at 24281644 bytes, expected 194252844 bytes from header.\n",
      "\n"
     ]
    },
    {
     "name": "stdout",
     "output_type": "stream",
     "text": [
      "✓ 300_AUDIO.wav → 300_silent.wav\n",
      "✓ 301_AUDIO.wav → 301_silent.wav\n",
      "✓ 302_AUDIO.wav → 302_silent.wav\n"
     ]
    },
    {
     "name": "stderr",
     "output_type": "stream",
     "text": [
      "C:\\Users\\Lenovo\\AppData\\Local\\Temp\\ipykernel_7860\\1118296751.py:25: WavFileWarning:\n",
      "\n",
      "Reached EOF prematurely; finished at 31529644 bytes, expected 252236844 bytes from header.\n",
      "\n",
      "C:\\Users\\Lenovo\\AppData\\Local\\Temp\\ipykernel_7860\\1118296751.py:25: WavFileWarning:\n",
      "\n",
      "Reached EOF prematurely; finished at 25363244 bytes, expected 202905644 bytes from header.\n",
      "\n",
      "C:\\Users\\Lenovo\\AppData\\Local\\Temp\\ipykernel_7860\\1118296751.py:25: WavFileWarning:\n",
      "\n",
      "Chunk (non-data) not understood, skipping it.\n",
      "\n"
     ]
    },
    {
     "name": "stdout",
     "output_type": "stream",
     "text": [
      "✓ 303_AUDIO.wav → 303_silent.wav\n",
      "✓ 304_AUDIO.wav → 304_silent.wav\n",
      "✓ 319_AUDIO.wav → 319_silent.wav\n",
      "✓ 320_AUDIO.wav → 320_silent.wav\n",
      "✓ 321_AUDIO.wav → 321_silent.wav\n",
      "✓ Noise.wav → Noise.wav\n",
      "\n",
      "All done! Cleaned files saved in 'C:\\Users\\Lenovo\\OneDrive\\Desktop\\6th Sem Project\\Audio Model\\AfterSilent'.\n"
     ]
    },
    {
     "name": "stderr",
     "output_type": "stream",
     "text": [
      "C:\\Users\\Lenovo\\AppData\\Local\\Temp\\ipykernel_7860\\1118296751.py:25: WavFileWarning:\n",
      "\n",
      "Reached EOF prematurely; finished at 26300844 bytes, expected 210406444 bytes from header.\n",
      "\n"
     ]
    }
   ],
   "source": [
    "# silence_removal.py\n",
    "# ---------------------------------------------------------------\n",
    "\"\"\"\n",
    "Remove low‑energy (silent) 1‑second segments from every *.wav file\n",
    "in `Initial/` and write the cleaned audio to `AfterSilent/`.\n",
    "\"\"\"\n",
    "\n",
    "import os\n",
    "import glob\n",
    "import numpy as np\n",
    "from scipy.io import wavfile\n",
    "\n",
    "# ─── paths ─────────────────────────────────────────────────────────\n",
    "BASE_DIR = os.getcwd()                   # folder where this script lives\n",
    "IN_DIR   = os.path.join(BASE_DIR, \"Initial\")\n",
    "OUT_DIR  = os.path.join(BASE_DIR, \"AfterSilent\")\n",
    "os.makedirs(OUT_DIR, exist_ok=True)      # create destination folder if missing\n",
    "\n",
    "# ─── parameters you may tweak ─────────────────────────────────────\n",
    "SEGMENT_SEC  = 1.0      # seconds per analysis window\n",
    "ENERGY_RATIO = 0.5      # keep windows whose energy > 0.5 × median_energy\n",
    "\n",
    "# ─── helper: process one wav file ─────────────────────────────────\n",
    "def process_wav(in_path, out_path):\n",
    "    fs, signal = wavfile.read(in_path)              # load\n",
    "    signal = signal.astype(np.float32)\n",
    "    if signal.dtype.kind == \"i\":                    # int16 ⇒ float‑1…1\n",
    "        signal /= np.iinfo(signal.dtype).max\n",
    "\n",
    "    # split into fixed‑length windows\n",
    "    win_len = int(round(SEGMENT_SEC * fs))\n",
    "    if win_len == 0:\n",
    "        raise ValueError(\"SEGMENT_SEC too small for sampling rate!\")\n",
    "    segments = [signal[i:i+win_len] for i in range(0, len(signal), win_len)]\n",
    "    energies = np.array([(seg**2).mean() for seg in segments])\n",
    "    threshold = ENERGY_RATIO * np.median(energies)\n",
    "\n",
    "    voiced = [seg for seg, e in zip(segments, energies) if e > threshold]\n",
    "    if not voiced:\n",
    "        print(f\"!! {os.path.basename(in_path)} has no voiced segments—skipped\")\n",
    "        return\n",
    "\n",
    "    cleaned = np.concatenate(voiced)\n",
    "    wavfile.write(out_path, fs, cleaned.astype(np.float32))\n",
    "    print(f\"✓ {os.path.basename(in_path)} → {os.path.basename(out_path)}\")\n",
    "\n",
    "# ─── batch over every WAV in Initial/ ─────────────────────────────\n",
    "wav_files = glob.glob(os.path.join(IN_DIR, \"*.wav\"))\n",
    "if not wav_files:\n",
    "    print(\"No .wav files found in 'Initial/'. Nothing to do.\")\n",
    "    exit()\n",
    "\n",
    "for wav_path in sorted(wav_files):\n",
    "    fname   = os.path.basename(wav_path)\n",
    "    outpath = os.path.join(OUT_DIR, fname.replace(\"_AUDIO\", \"_silent\"))\n",
    "    process_wav(wav_path, outpath)\n",
    "\n",
    "print(f\"\\nAll done! Cleaned files saved in '{OUT_DIR}'.\")\n"
   ]
  },
  {
   "cell_type": "code",
   "execution_count": null,
   "metadata": {},
   "outputs": [],
   "source": []
  }
 ],
 "metadata": {
  "colab": {
   "provenance": []
  },
  "kernelspec": {
   "display_name": "Python 3 (ipykernel)",
   "language": "python",
   "name": "python3"
  },
  "language_info": {
   "codemirror_mode": {
    "name": "ipython",
    "version": 3
   },
   "file_extension": ".py",
   "mimetype": "text/x-python",
   "name": "python",
   "nbconvert_exporter": "python",
   "pygments_lexer": "ipython3",
   "version": "3.11.5"
  }
 },
 "nbformat": 4,
 "nbformat_minor": 1
}
